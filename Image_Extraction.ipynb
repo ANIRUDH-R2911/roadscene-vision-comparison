{
 "cells": [
  {
   "cell_type": "code",
   "execution_count": 2,
   "id": "61ef6885-083e-4385-b7ba-115897c19ecb",
   "metadata": {},
   "outputs": [
    {
     "name": "stdout",
     "output_type": "stream",
     "text": [
      "Defaulting to user installation because normal site-packages is not writeable\n",
      "Collecting pyarrow\n",
      "  Downloading pyarrow-19.0.1-cp310-cp310-manylinux_2_28_x86_64.whl (42.1 MB)\n",
      "\u001b[2K     \u001b[38;2;114;156;31m━━━━━━━━━━━━━━━━━━━━━━━━━━━━━━━━━━━━━━━━\u001b[0m \u001b[32m42.1/42.1 MB\u001b[0m \u001b[31m2.7 MB/s\u001b[0m eta \u001b[36m0:00:00\u001b[0mm eta \u001b[36m0:00:01\u001b[0m[36m0:00:01\u001b[0m\n",
      "\u001b[?25hInstalling collected packages: pyarrow\n",
      "Successfully installed pyarrow-19.0.1\n",
      "Note: you may need to restart the kernel to use updated packages.\n"
     ]
    }
   ],
   "source": [
    "pip install pyarrow"
   ]
  },
  {
   "cell_type": "code",
   "execution_count": 2,
   "id": "2b003a72-b7a1-4dd0-ab45-bd09190d3c7f",
   "metadata": {},
   "outputs": [
    {
     "name": "stdout",
     "output_type": "stream",
     "text": [
      "Number of rows (frames): 995\n",
      "index: string\n",
      "key.segment_context_name: string\n",
      "key.frame_timestamp_micros: int64\n",
      "key.camera_name: int8\n",
      "[CameraImageComponent].image: binary\n",
      "[CameraImageComponent].pose.transform: fixed_size_list<item: double>[16]\n",
      "  child 0, item: double\n",
      "[CameraImageComponent].velocity.linear_velocity.x: float\n",
      "[CameraImageComponent].velocity.linear_velocity.y: float\n",
      "[CameraImageComponent].velocity.linear_velocity.z: float\n",
      "[CameraImageComponent].velocity.angular_velocity.x: double\n",
      "[CameraImageComponent].velocity.angular_velocity.y: double\n",
      "[CameraImageComponent].velocity.angular_velocity.z: double\n",
      "[CameraImageComponent].pose_timestamp: double\n",
      "[CameraImageComponent].rolling_shutter_params.shutter: double\n",
      "[CameraImageComponent].rolling_shutter_params.camera_trigger_time: double\n",
      "[CameraImageComponent].rolling_shutter_params.camera_readout_done_time: double\n",
      "-- schema metadata --\n",
      "pandas: '{\"column_indexes\": [{\"field_name\": null, \"metadata\": {\"encoding\"' + 3109\n",
      "Total number of images in the parquet file: 995\n"
     ]
    }
   ],
   "source": [
    "import pyarrow.parquet as pq\n",
    "\n",
    "parquet_file = \"/home/Waymo/1005081002024129653_5313_150_5333_150.parquet\"\n",
    "table = pq.read_table(parquet_file)\n",
    "\n",
    "num_rows = table.num_rows  \n",
    "print(f\"Number of rows (frames): {num_rows}\")\n",
    "\n",
    "print(table.schema)\n",
    "\n",
    "image_column_name = \"[CameraImageComponent].image\"  \n",
    "image_column = table.column(image_column_name)\n",
    "\n",
    "total_images = 0\n",
    "for i in range(num_rows):\n",
    "    image_bytes = image_column[i].as_py() \n",
    "    if image_bytes: \n",
    "        total_images += 1 \n",
    "\n",
    "print(f\"Total number of images in the parquet file: {total_images}\")"
   ]
  },
  {
   "cell_type": "code",
   "execution_count": 4,
   "id": "03bbbe85-449e-44f9-8124-67affd23006e",
   "metadata": {},
   "outputs": [
    {
     "name": "stdout",
     "output_type": "stream",
     "text": [
      "Extracted 100 images...\n",
      "Extracted 200 images...\n",
      "Extracted 300 images...\n",
      "Extracted 400 images...\n",
      "Extracted 500 images...\n",
      "Extracted 600 images...\n",
      "Extracted 700 images...\n",
      "Extracted 800 images...\n",
      "Extracted 900 images...\n",
      "Extracted 1000 images...\n",
      "Extracted 1100 images...\n",
      "Extracted 1200 images...\n",
      "Extracted 1300 images...\n",
      "Extracted 1400 images...\n",
      "Extracted 1500 images...\n",
      "Extracted 1600 images...\n",
      "Extracted 1700 images...\n",
      "Extracted 1800 images...\n",
      "Extracted 1900 images...\n",
      "Extracted 2000 images...\n",
      "Extracted 2100 images...\n",
      "Extracted 2200 images...\n",
      "Extracted 2300 images...\n",
      "Extracted 2400 images...\n",
      "Extracted 2500 images...\n",
      "Extracted 2600 images...\n",
      "Extracted 2700 images...\n",
      "Extracted 2800 images...\n",
      "Extracted 2900 images...\n",
      "Extracted 3000 images...\n",
      "Extracted 3100 images...\n",
      "Extracted 3200 images...\n",
      "Extracted 3300 images...\n",
      "Extracted 3400 images...\n",
      "Extracted 3500 images...\n",
      "Extracted 3600 images...\n",
      "Extracted 3700 images...\n",
      "Extracted 3800 images...\n",
      "Extracted 3900 images...\n",
      "Extracted 4000 images...\n",
      "Extracted 4100 images...\n",
      "Extracted 4200 images...\n",
      "Extracted 4300 images...\n",
      "Extracted 4400 images...\n",
      "Extracted 4500 images...\n",
      "Extracted 4600 images...\n",
      "Extracted 4700 images...\n",
      "Extracted 4800 images...\n",
      "Finished extracting 4845 images.\n"
     ]
    }
   ],
   "source": [
    "import os\n",
    "import pyarrow.parquet as pq\n",
    "import cv2\n",
    "import tensorflow as tf\n",
    "\n",
    "WAYMO_DATA_DIR = \"/homeWaymo\" \n",
    "OUTPUT_DIR = \"/homeWaymo_Images\"\n",
    "\n",
    "os.makedirs(OUTPUT_DIR, exist_ok=True)\n",
    "\n",
    "parquet_files = [\n",
    "    os.path.join(WAYMO_DATA_DIR, f)\n",
    "    for f in os.listdir(WAYMO_DATA_DIR)\n",
    "    if f.endswith(\".parquet\")\n",
    "]\n",
    "\n",
    "image_count = 0\n",
    "\n",
    "for parquet_file in parquet_files:\n",
    "    table = pq.read_table(parquet_file)\n",
    "    image_column_name = \"[CameraImageComponent].image\"  \n",
    "    image_column = table.column(image_column_name)\n",
    "    num_rows = table.num_rows\n",
    "\n",
    "    for i in range(num_rows):\n",
    "        image_count += 1  \n",
    "        image_name = f\"image_{image_count:06d}.jpg\"\n",
    "        image_path = os.path.join(OUTPUT_DIR, image_name)\n",
    "\n",
    "        try:\n",
    "            image_bytes = image_column[i].as_py()\n",
    "            if image_bytes:  \n",
    "                image = tf.image.decode_jpeg(image_bytes).numpy()\n",
    "                image = cv2.cvtColor(image, cv2.COLOR_RGB2BGR)  \n",
    "                cv2.imwrite(image_path, image)\n",
    "\n",
    "                if image_count % 100 == 0:\n",
    "                    print(f\"Extracted {image_count} images...\")\n",
    "            else:\n",
    "                print(f\"Warning: No image data found in row {i} of {parquet_file}\")\n",
    "\n",
    "        except tf.errors.InvalidArgumentError as e:  \n",
    "            print(f\"Error decoding image {i} from {parquet_file}: {e}\")\n",
    "        except Exception as e: \n",
    "            print(f\"An error occurred processing image {i} from {parquet_file}: {e}\")\n",
    "\n",
    "print(f\"Finished extracting {image_count} images.\")"
   ]
  },
  {
   "cell_type": "code",
   "execution_count": 1,
   "id": "457a9084-8b7e-437a-95d2-7c253d90c68f",
   "metadata": {},
   "outputs": [
    {
     "name": "stdout",
     "output_type": "stream",
     "text": [
      "Unique images saved in /home/anirudh/Waymo_unique_images\n"
     ]
    }
   ],
   "source": [
    "import os\n",
    "import cv2\n",
    "import hashlib\n",
    "\n",
    "image_folder = \"/home/Waymo_Images\"\n",
    "unique_images_folder = \"/home/Waymo_unique_images\"\n",
    "os.makedirs(unique_images_folder, exist_ok=True)\n",
    "\n",
    "hashes = {}\n",
    "\n",
    "def dhash(image, size=8):\n",
    "    \"\"\"Compute the difference hash for an image.\"\"\"\n",
    "    resized = cv2.resize(image, (size + 1, size))\n",
    "    diff = resized[:, 1:] > resized[:, :-1] \n",
    "    return sum([2 ** i for (i, v) in enumerate(diff.flatten()) if v])\n",
    "\n",
    "for filename in os.listdir(image_folder):\n",
    "    img_path = os.path.join(image_folder, filename)\n",
    "    img = cv2.imread(img_path, cv2.IMREAD_COLOR)\n",
    "\n",
    "    if img is not None:\n",
    "        img_hash = dhash(img) \n",
    "\n",
    "        if img_hash not in hashes:\n",
    "            hashes[img_hash] = filename\n",
    "            new_img_path = os.path.join(unique_images_folder, filename)\n",
    "            cv2.imwrite(new_img_path, img)\n",
    "\n",
    "print(f\"Unique images saved in {unique_images_folder}\")\n"
   ]
  },
  {
   "cell_type": "code",
   "execution_count": null,
   "id": "bf822c24-8fd7-44ef-9001-64021aea498b",
   "metadata": {},
   "outputs": [],
   "source": []
  }
 ],
 "metadata": {
  "kernelspec": {
   "display_name": "Python 3 (ipykernel)",
   "language": "python",
   "name": "python3"
  },
  "language_info": {
   "codemirror_mode": {
    "name": "ipython",
    "version": 3
   },
   "file_extension": ".py",
   "mimetype": "text/x-python",
   "name": "python",
   "nbconvert_exporter": "python",
   "pygments_lexer": "ipython3",
   "version": "3.10.12"
  }
 },
 "nbformat": 4,
 "nbformat_minor": 5
}
